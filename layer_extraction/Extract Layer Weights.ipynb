{
 "cells": [
  {
   "cell_type": "markdown",
   "metadata": {},
   "source": [
    "# Extracting Layer Weights\n",
    "\n",
    "This ipython notebook can be used to generate cluster of CNN layer weights from a set of images, and cluster those images based on the layer weights. Used to generate a sample image cluster for the image clustering UI. \n",
    "\n",
    "## Requirements\n",
    "* Environment variables for CAFFE_HOME set to the location of the CAFFE installation for NVIDIA's fork of the caffe framework\n",
    "* Environment variable for DIGITS_HOME set to the location of the NVIDIA Digits installation\n",
    "* Existing model for doing the feature detection\n",
    "* sklearn version > 0.18 "
   ]
  },
  {
   "cell_type": "code",
   "execution_count": null,
   "metadata": {
    "collapsed": false
   },
   "outputs": [],
   "source": [
    "import os\n",
    "# get the location of your caffe and digits\n",
    "caffe_home = os.environ['CAFFE_HOME']\n",
    "digits_home = os.environ['DIGITS_HOME']\n",
    "\n",
    "# set the model directory and the mean file\n",
    "model_dir = \"/data/digits/jobs/20150910-211807-d169/\"\n",
    "mean_file = \"/data/digits/jobs/20150910-150610-9373/mean.binaryproto\"\n",
    "test_image_file = r\"/data/1020/data/military uniform/937.jpg\"\n",
    "\n",
    "# import some digits webserver code\n",
    "import sys\n",
    "sys.path.append(caffe_home +\"/python/\")\n",
    "sys.path.append(digits_home)\n",
    "sys.path.append(digits_home + 'digits')\n",
    "\n",
    "import digits\n",
    "from digits import config\n",
    "config.load_config()\n",
    "import utils\n",
    "from job import Job\n"
   ]
  },
  {
   "cell_type": "code",
   "execution_count": null,
   "metadata": {
    "collapsed": false
   },
   "outputs": [],
   "source": [
    "import caffe\n",
    "import numpy as np\n",
    "import matplotlib.pyplot as plt\n",
    "%matplotlib inline\n",
    "from caffe.proto import caffe_pb2\n",
    "import sklearn \n",
    "import glob\n",
    "from sklearn.manifold import TSNE\n",
    "from sklearn.decomposition import PCA\n",
    "import shutil"
   ]
  },
  {
   "cell_type": "code",
   "execution_count": 2,
   "metadata": {
    "collapsed": true
   },
   "outputs": [],
   "source": [
    "#configure plotting\n",
    "plt.rcParams['figure.figsize'] = (10,10)\n",
    "plt.rcParams['image.interpolation'] = 'nearest'\n",
    "plt.rcParams['image.cmap'] = 'gray'"
   ]
  },
  {
   "cell_type": "code",
   "execution_count": 3,
   "metadata": {
    "collapsed": true
   },
   "outputs": [],
   "source": [
    "caffe.set_mode_cpu()"
   ]
  },
  {
   "cell_type": "code",
   "execution_count": 4,
   "metadata": {
    "collapsed": false
   },
   "outputs": [],
   "source": [
    "# Create the CNN object using the caffemodel file for model parameters \n",
    "# and the prototxt for defining the model architecture\n",
    "netdeploymet_proto = model_dir + \"deploy.prototxt\"\n",
    "latest_model_iteration = model_dir + \"snapshot_iter_505860.caffemodel\"\n",
    "\n",
    "net = caffe.Net(netdeploymet_proto,\n",
    "               latest_model_iteration,\n",
    "               caffe.TEST)"
   ]
  },
  {
   "cell_type": "code",
   "execution_count": 5,
   "metadata": {
    "collapsed": false
   },
   "outputs": [],
   "source": [
    "#im = caffe.io.load_image(\"/home/sander/Documents/Pixelate/corgi_test.png\")\n",
    "im = caffe.io.load_image(test_image_file)\n"
   ]
  },
  {
   "cell_type": "code",
   "execution_count": null,
   "metadata": {
    "collapsed": true
   },
   "outputs": [],
   "source": [
    "def getlayerweightsWeb(imfname, net=net,\\\n",
    "                  meanfname=\"/data_ebs/digits/jobs/20150910-150610-9373/mean.binaryproto\",\n",
    "                 layer='fc7'):\n",
    "    \n",
    "    \n",
    "\n",
    "    network = caffe_pb2.NetParameter()\n",
    "    deploy_file=\"/data_ebs/digits/jobs/20150910-211807-d169/deploy.prototxt\"\n",
    "    infile = open(deploy_file)\n",
    "    text_format.Merge(infile.read(), network)\n",
    "\n",
    "    imtest = imfname\n",
    "    image = utils.image.load_image(imtest)\n",
    "    # need programmatic access\n",
    "    dataset = Job.load(\"20150910-150610-9373\")\n",
    "    # get transformer\n",
    "    data_shape = None\n",
    "    channel_swap = None\n",
    "    mean_pixel = None\n",
    "    data_shape = network.input_dim[:4]\n",
    "\n",
    "    channel_swap = (2,1,0)\n",
    "    infile = open(meanfname,'rb')\n",
    "    blob = caffe_pb2.BlobProto()\n",
    "    blob.MergeFromString(infile.read())\n",
    "    mean_pixel = np.reshape(blob.data,\\\n",
    "                                (\\\n",
    "                                    dataset.image_dims[2],\\\n",
    "                                    dataset.image_dims[0],\\\n",
    "                                    dataset.image_dims[1],\\\n",
    "                                    )\\\n",
    "                                ).mean(1).mean(1)\n",
    "\n",
    "\n",
    "    t = caffe.io.Transformer(\n",
    "                    inputs = {'data':  data_shape}\n",
    "                    )\n",
    "    t.set_transpose('data', (2,0,1))\n",
    "    t.set_channel_swap('data', channel_swap)\n",
    "    t.set_mean('data', mean_pixel)\n",
    "    image = np.array(image)\n",
    "    preprocessed = None\n",
    "    try:\n",
    "        preprocessed = t.preprocess('data',image)\n",
    "    except RuntimeError as e:\n",
    "        print e\n",
    "        return None\n",
    "        \n",
    "    test_shape = (1,) + preprocessed.shape\n",
    "    if net.blobs['data'].data.shape != test_shape:\n",
    "                net.blobs['data'].reshape(*test_shape)\n",
    "\n",
    "    net.blobs['data'].data[...] = preprocessed\n",
    "    output = net.forward(end=layer)\n",
    "    \n",
    "    return output[layer]"
   ]
  },
  {
   "cell_type": "code",
   "execution_count": null,
   "metadata": {
    "collapsed": true
   },
   "outputs": [],
   "source": [
    "# get a list of files from\n",
    "catlist = glob.glob(\"/data_ebs/1020/data/*\")\n",
    "imcatlist = []\n",
    "for cat in catlist:\n",
    "    imcatlist.extend(glob.glob(cat+\"/*\")[:100])"
   ]
  },
  {
   "cell_type": "code",
   "execution_count": 15,
   "metadata": {
    "collapsed": false
   },
   "outputs": [],
   "source": [
    "imfilelist = glob.glob(\"/data/twitterpicsdata/*jpg\")\n"
   ]
  },
  {
   "cell_type": "code",
   "execution_count": 16,
   "metadata": {
    "collapsed": true
   },
   "outputs": [
    {
     "name": "stdout",
     "output_type": "stream",
     "text": [
      "['/data/1020/data/baseball/316.jpg', '/data/1020/data/baseball/525.jpg', '/data/1020/data/baseball/393.jpg', '/data/1020/data/baseball/618.jpg', '/data/1020/data/baseball/181.jpg', '/data/1020/data/baseball/783.jpg', '/data/1020/data/baseball/900.jpg', '/data/1020/data/baseball/169.jpg', '/data/1020/data/baseball/119.jpg', '/data/1020/data/baseball/107.jpg', '/data/1020/data/fire engine/316.jpg', '/data/1020/data/fire engine/525.jpg', '/data/1020/data/fire engine/393.jpg', '/data/1020/data/fire engine/1236.jpg', '/data/1020/data/fire engine/618.jpg', '/data/1020/data/fire engine/975.jpg', '/data/1020/data/fire engine/1030.jpg', '/data/1020/data/fire engine/682.jpg', '/data/1020/data/fire engine/783.jpg', '/data/1020/data/fire engine/900.jpg', '/data/1020/data/patas/316.jpg', '/data/1020/data/patas/525.jpg', '/data/1020/data/patas/393.jpg', '/data/1020/data/patas/618.jpg', '/data/1020/data/patas/181.jpg', '/data/1020/data/patas/682.jpg', '/data/1020/data/patas/783.jpg', '/data/1020/data/patas/900.jpg', '/data/1020/data/patas/169.jpg', '/data/1020/data/patas/844.jpg']\n"
     ]
    }
   ],
   "source": [
    "catlist = glob.glob(\"/data/1020/data/*\")\n",
    "imcatlist = []\n",
    "for cat in catlist:\n",
    "    imcatlist.extend(glob.glob(cat+\"/*\")[:10])\n",
    "\n",
    "print imcatlist[:30]"
   ]
  },
  {
   "cell_type": "code",
   "execution_count": 19,
   "metadata": {
    "collapsed": true
   },
   "outputs": [],
   "source": [
    "imfilelist.extend(imcatlist)"
   ]
  },
  {
   "cell_type": "code",
   "execution_count": 23,
   "metadata": {
    "collapsed": false
   },
   "outputs": [],
   "source": [
    "imweights = np.zeros([len(imfilelist),4096],dtype=float)\n"
   ]
  },
  {
   "cell_type": "code",
   "execution_count": null,
   "metadata": {
    "collapsed": false
   },
   "outputs": [],
   "source": [
    "for i, im in enumerate(imfilelist[965:]): \n",
    "    imweights[i+965,:] = get7thweights(im)"
   ]
  },
  {
   "cell_type": "code",
   "execution_count": null,
   "metadata": {
    "collapsed": false
   },
   "outputs": [],
   "source": [
    "for i, im in enumerate(imfilelist[:1000]): \n",
    "    imweights[i+965,:] = get7thweights(im)"
   ]
  },
  {
   "cell_type": "code",
   "execution_count": null,
   "metadata": {
    "collapsed": false
   },
   "outputs": [],
   "source": [
    "imweights[503,:]"
   ]
  },
  {
   "cell_type": "code",
   "execution_count": null,
   "metadata": {
    "collapsed": false
   },
   "outputs": [],
   "source": [
    "imweights[965,:]"
   ]
  },
  {
   "cell_type": "code",
   "execution_count": null,
   "metadata": {
    "collapsed": true
   },
   "outputs": [],
   "source": [
    "np.save(\"imweights.npy\",imweights)"
   ]
  },
  {
   "cell_type": "code",
   "execution_count": 6,
   "metadata": {
    "collapsed": true
   },
   "outputs": [],
   "source": [
    "imweights = np.load(\"imweights.npy\")"
   ]
  },
  {
   "cell_type": "code",
   "execution_count": null,
   "metadata": {
    "collapsed": false
   },
   "outputs": [],
   "source": [
    "model = TSNE(n_components=2, perplexity=5)"
   ]
  },
  {
   "cell_type": "code",
   "execution_count": 8,
   "metadata": {
    "collapsed": false
   },
   "outputs": [],
   "source": [
    "model2 = TSNE(n_components=3)"
   ]
  },
  {
   "cell_type": "code",
   "execution_count": null,
   "metadata": {
    "collapsed": true
   },
   "outputs": [],
   "source": [
    "trweights3d = model2.fit_transform(imweights)"
   ]
  },
  {
   "cell_type": "code",
   "execution_count": 9,
   "metadata": {
    "collapsed": true
   },
   "outputs": [],
   "source": [
    "trweights3d = model2.fit_transform(imweights[:1000,:])"
   ]
  },
  {
   "cell_type": "code",
   "execution_count": 21,
   "metadata": {
    "collapsed": false
   },
   "outputs": [
    {
     "data": {
      "text/plain": [
       "10172"
      ]
     },
     "execution_count": 21,
     "metadata": {},
     "output_type": "execute_result"
    }
   ],
   "source": [
    "len(imfilelist)"
   ]
  },
  {
   "cell_type": "code",
   "execution_count": null,
   "metadata": {
    "collapsed": true
   },
   "outputs": [],
   "source": [
    "trweights = model.fit_transform(imweights)"
   ]
  },
  {
   "cell_type": "code",
   "execution_count": null,
   "metadata": {
    "collapsed": true
   },
   "outputs": [],
   "source": [
    "f = open(\"/home/sander/twitterpicsdata.txt\",\"w\")"
   ]
  },
  {
   "cell_type": "code",
   "execution_count": null,
   "metadata": {
    "collapsed": true
   },
   "outputs": [],
   "source": [
    "f2 = open(\"/home/sander/imdata2.txt\",\"w\")"
   ]
  },
  {
   "cell_type": "code",
   "execution_count": null,
   "metadata": {
    "collapsed": false
   },
   "outputs": [],
   "source": [
    "f.write(\"filename\\tx\\ty\\n\")\n",
    "for i in range(len(imfilelist[:54])): \n",
    "    f.write(\"%s\\t%3.1f\\t%3.1f\\n\" % (imfilelist[i].split(\"/\")[-1], trweights[i,0], trweights[i,1] ))"
   ]
  },
  {
   "cell_type": "code",
   "execution_count": null,
   "metadata": {
    "collapsed": false
   },
   "outputs": [],
   "source": [
    "f2.write(\"filename\\tx\\ty\\n\")\n",
    "for i in range(len(imfilelist)): \n",
    "    f2.write(\"%s\\t%3.1f\\t%3.1f\\n\" % (imfilelist[i], trweights[i,0], trweights[i,1] ))"
   ]
  },
  {
   "cell_type": "code",
   "execution_count": null,
   "metadata": {
    "collapsed": false
   },
   "outputs": [],
   "source": [
    "f.close()\n",
    "f2.close"
   ]
  },
  {
   "cell_type": "code",
   "execution_count": null,
   "metadata": {
    "collapsed": true
   },
   "outputs": [],
   "source": [
    "f2.close()"
   ]
  },
  {
   "cell_type": "code",
   "execution_count": null,
   "metadata": {
    "collapsed": true
   },
   "outputs": [],
   "source": [
    "import shutil"
   ]
  },
  {
   "cell_type": "code",
   "execution_count": null,
   "metadata": {
    "collapsed": true
   },
   "outputs": [],
   "source": [
    "namemap = {}"
   ]
  },
  {
   "cell_type": "code",
   "execution_count": 23,
   "metadata": {
    "collapsed": false
   },
   "outputs": [],
   "source": [
    "namemap = {j : i for i, j in enumerate(set([f.split(\"/\")[-2] for f in imfilelist]))}"
   ]
  },
  {
   "cell_type": "code",
   "execution_count": 33,
   "metadata": {
    "collapsed": false
   },
   "outputs": [],
   "source": [
    "for f in imfilelist[:1000]:\n",
    "    ext = f.split(\"/\")[-1].split(\".\")[-1]\n",
    "    fname = f.split(\"/\")[-1].split(\".\")[0]\n",
    "    subdir = f.split(\"/\")[-2]\n",
    "    shutil.copyfile(f, \"/data/staging/forJason/%s_%i.%s\" % (fname, namemap[subdir],ext))"
   ]
  },
  {
   "cell_type": "code",
   "execution_count": null,
   "metadata": {
    "collapsed": false
   },
   "outputs": [],
   "source": [
    "outfile = open(\"/home/sander/imdata3.txt\",\"w\")\n",
    "for i, f in enumerate(imfilelist):\n",
    "    ext = f.split(\"/\")[-1].split(\".\")[-1]\n",
    "    fname = f.split(\"/\")[-1].split(\".\")[0]\n",
    "    subdir = f.split(\"/\")[-2]\n",
    "    newfile = \"%s_%i.%s\" % (fname, namemap[subdir],ext)\n",
    "    outfile.write(\"%s\\t%3.5f\\t%3.5f\\n\" % (newfile, trweights[i,0], trweights[i,1] ))\n",
    "outfile.close()\n",
    "    "
   ]
  },
  {
   "cell_type": "code",
   "execution_count": 30,
   "metadata": {
    "collapsed": false
   },
   "outputs": [],
   "source": [
    "outfile = open(\"/home/sander/imdata3d.txt\",\"w\")\n",
    "for i, f in enumerate(imfilelist[:1000]):\n",
    "    ext = f.split(\"/\")[-1].split(\".\")[-1]\n",
    "    fname = f.split(\"/\")[-1].split(\".\")[0]\n",
    "    subdir = f.split(\"/\")[-2]\n",
    "    newfile = \"%s_%i.%s\" % (fname, namemap[subdir],ext)\n",
    "    outfile.write(\"%s\\t%3.5f\\t%3.5f\\t%3.5f\\n\" % (newfile, trweights3d[i,0], trweights3d[i,1], trweights3d[i,2] ))\n",
    "outfile.close()\n",
    "    "
   ]
  },
  {
   "cell_type": "code",
   "execution_count": 31,
   "metadata": {
    "collapsed": false
   },
   "outputs": [],
   "source": [
    "import shutil"
   ]
  },
  {
   "cell_type": "code",
   "execution_count": 32,
   "metadata": {
    "collapsed": false
   },
   "outputs": [
    {
     "ename": "IOError",
     "evalue": "[Errno 2] No such file or directory: '//data//staging//393_362.jpg'",
     "output_type": "error",
     "traceback": [
      "\u001b[1;31m---------------------------------------------------------------------------\u001b[0m",
      "\u001b[1;31mIOError\u001b[0m                                   Traceback (most recent call last)",
      "\u001b[1;32m<ipython-input-32-1fd7a5133064>\u001b[0m in \u001b[0;36m<module>\u001b[1;34m()\u001b[0m\n\u001b[0;32m      4\u001b[0m     \u001b[0msubdir\u001b[0m \u001b[1;33m=\u001b[0m \u001b[0mf\u001b[0m\u001b[1;33m.\u001b[0m\u001b[0msplit\u001b[0m\u001b[1;33m(\u001b[0m\u001b[1;34m\"/\"\u001b[0m\u001b[1;33m)\u001b[0m\u001b[1;33m[\u001b[0m\u001b[1;33m-\u001b[0m\u001b[1;36m2\u001b[0m\u001b[1;33m]\u001b[0m\u001b[1;33m\u001b[0m\u001b[0m\n\u001b[0;32m      5\u001b[0m     \u001b[0mnewfile\u001b[0m \u001b[1;33m=\u001b[0m \u001b[1;34m\"%s_%i.%s\"\u001b[0m \u001b[1;33m%\u001b[0m \u001b[1;33m(\u001b[0m\u001b[0mfname\u001b[0m\u001b[1;33m,\u001b[0m \u001b[0mnamemap\u001b[0m\u001b[1;33m[\u001b[0m\u001b[0msubdir\u001b[0m\u001b[1;33m]\u001b[0m\u001b[1;33m,\u001b[0m\u001b[0mext\u001b[0m\u001b[1;33m)\u001b[0m\u001b[1;33m\u001b[0m\u001b[0m\n\u001b[1;32m----> 6\u001b[1;33m     \u001b[0mshutil\u001b[0m\u001b[1;33m.\u001b[0m\u001b[0mcopyfile\u001b[0m\u001b[1;33m(\u001b[0m\u001b[1;34m\"//data//staging//%s\"\u001b[0m \u001b[1;33m%\u001b[0m \u001b[0mnewfile\u001b[0m\u001b[1;33m,\u001b[0m \u001b[1;34m\"//data//staging//forJason//%s\"\u001b[0m\u001b[1;33m%\u001b[0m \u001b[0mnewfile\u001b[0m\u001b[1;33m)\u001b[0m\u001b[1;33m\u001b[0m\u001b[0m\n\u001b[0m",
      "\u001b[1;32m/home/sander/anaconda/lib/python2.7/shutil.pyc\u001b[0m in \u001b[0;36mcopyfile\u001b[1;34m(src, dst)\u001b[0m\n\u001b[0;32m     80\u001b[0m                 \u001b[1;32mraise\u001b[0m \u001b[0mSpecialFileError\u001b[0m\u001b[1;33m(\u001b[0m\u001b[1;34m\"`%s` is a named pipe\"\u001b[0m \u001b[1;33m%\u001b[0m \u001b[0mfn\u001b[0m\u001b[1;33m)\u001b[0m\u001b[1;33m\u001b[0m\u001b[0m\n\u001b[0;32m     81\u001b[0m \u001b[1;33m\u001b[0m\u001b[0m\n\u001b[1;32m---> 82\u001b[1;33m     \u001b[1;32mwith\u001b[0m \u001b[0mopen\u001b[0m\u001b[1;33m(\u001b[0m\u001b[0msrc\u001b[0m\u001b[1;33m,\u001b[0m \u001b[1;34m'rb'\u001b[0m\u001b[1;33m)\u001b[0m \u001b[1;32mas\u001b[0m \u001b[0mfsrc\u001b[0m\u001b[1;33m:\u001b[0m\u001b[1;33m\u001b[0m\u001b[0m\n\u001b[0m\u001b[0;32m     83\u001b[0m         \u001b[1;32mwith\u001b[0m \u001b[0mopen\u001b[0m\u001b[1;33m(\u001b[0m\u001b[0mdst\u001b[0m\u001b[1;33m,\u001b[0m \u001b[1;34m'wb'\u001b[0m\u001b[1;33m)\u001b[0m \u001b[1;32mas\u001b[0m \u001b[0mfdst\u001b[0m\u001b[1;33m:\u001b[0m\u001b[1;33m\u001b[0m\u001b[0m\n\u001b[0;32m     84\u001b[0m             \u001b[0mcopyfileobj\u001b[0m\u001b[1;33m(\u001b[0m\u001b[0mfsrc\u001b[0m\u001b[1;33m,\u001b[0m \u001b[0mfdst\u001b[0m\u001b[1;33m)\u001b[0m\u001b[1;33m\u001b[0m\u001b[0m\n",
      "\u001b[1;31mIOError\u001b[0m: [Errno 2] No such file or directory: '//data//staging//393_362.jpg'"
     ]
    }
   ],
   "source": [
    "for i, f in enumerate(imfilelist[:1000]):\n",
    "    ext = f.split(\"/\")[-1].split(\".\")[-1]\n",
    "    fname = f.split(\"/\")[-1].split(\".\")[0]\n",
    "    subdir = f.split(\"/\")[-2]\n",
    "    newfile = \"%s_%i.%s\" % (fname, namemap[subdir],ext)\n",
    "    shutil.copyfile(\"//data//staging//%s\" % newfile, \"//data//staging//forJason//%s\"% newfile)\n"
   ]
  },
  {
   "cell_type": "code",
   "execution_count": null,
   "metadata": {
    "collapsed": true
   },
   "outputs": [],
   "source": []
  }
 ],
 "metadata": {
  "kernelspec": {
   "display_name": "Python 2",
   "language": "python",
   "name": "python2"
  },
  "language_info": {
   "codemirror_mode": {
    "name": "ipython",
    "version": 2
   },
   "file_extension": ".py",
   "mimetype": "text/x-python",
   "name": "python",
   "nbconvert_exporter": "python",
   "pygments_lexer": "ipython2",
   "version": "2.7.10"
  }
 },
 "nbformat": 4,
 "nbformat_minor": 0
}
